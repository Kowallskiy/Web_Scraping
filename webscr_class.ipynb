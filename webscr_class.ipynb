{
 "cells": [
  {
   "cell_type": "code",
   "execution_count": 56,
   "metadata": {},
   "outputs": [],
   "source": [
    "from bs4 import BeautifulSoup\n",
    "import requests"
   ]
  },
  {
   "cell_type": "code",
   "execution_count": 57,
   "metadata": {},
   "outputs": [],
   "source": [
    "url = 'https://en.wikipedia.org/wiki/Classroom_of_the_Elite'\n",
    "\n",
    "page = requests.get(url)\n",
    "\n",
    "soup = BeautifulSoup(page.text, 'html')"
   ]
  },
  {
   "cell_type": "code",
   "execution_count": 58,
   "metadata": {},
   "outputs": [
    {
     "data": {
      "text/plain": [
       "<table class=\"wikitable\" style=\"\" width=\"70%\">\n",
       "<tbody><tr style=\"border-bottom: 3px solid #DC143C\">\n",
       "<th width=\"4%\"><abbr title=\"Number\">No.</abbr>\n",
       "</th>\n",
       "<th width=\"24%\">Original release date\n",
       "</th>\n",
       "<th width=\"24%\">Original ISBN\n",
       "</th>\n",
       "<th width=\"24%\">English release date\n",
       "</th>\n",
       "<th width=\"24%\">English ISBN\n",
       "</th></tr>\n",
       "<tr style=\"text-align: center;\"><th id=\"vol1\" scope=\"row\" style=\"text-align: center; font-weight: normal; background-color: transparent;\">1</th><td> May 25, 2015<sup class=\"reference\" id=\"cite_ref-jp-novel-Y1-V1_6-0\"><a href=\"#cite_note-jp-novel-Y1-V1-6\">[5]</a></sup></td><td><style data-mw-deduplicate=\"TemplateStyles:r1133582631\">.mw-parser-output cite.citation{font-style:inherit;word-wrap:break-word}.mw-parser-output .citation q{quotes:\"\\\"\"\"\\\"\"\"'\"\"'\"}.mw-parser-output .citation:target{background-color:rgba(0,127,255,0.133)}.mw-parser-output .id-lock-free a,.mw-parser-output .citation .cs1-lock-free a{background:url(\"//upload.wikimedia.org/wikipedia/commons/6/65/Lock-green.svg\")right 0.1em center/9px no-repeat}.mw-parser-output .id-lock-limited a,.mw-parser-output .id-lock-registration a,.mw-parser-output .citation .cs1-lock-limited a,.mw-parser-output .citation .cs1-lock-registration a{background:url(\"//upload.wikimedia.org/wikipedia/commons/d/d6/Lock-gray-alt-2.svg\")right 0.1em center/9px no-repeat}.mw-parser-output .id-lock-subscription a,.mw-parser-output .citation .cs1-lock-subscription a{background:url(\"//upload.wikimedia.org/wikipedia/commons/a/aa/Lock-red-alt-2.svg\")right 0.1em center/9px no-repeat}.mw-parser-output .cs1-ws-icon a{background:url(\"//upload.wikimedia.org/wikipedia/commons/4/4c/Wikisource-logo.svg\")right 0.1em center/12px no-repeat}.mw-parser-output .cs1-code{color:inherit;background:inherit;border:none;padding:inherit}.mw-parser-output .cs1-hidden-error{display:none;color:#d33}.mw-parser-output .cs1-visible-error{color:#d33}.mw-parser-output .cs1-maint{display:none;color:#3a3;margin-left:0.3em}.mw-parser-output .cs1-format{font-size:95%}.mw-parser-output .cs1-kern-left{padding-left:0.2em}.mw-parser-output .cs1-kern-right{padding-right:0.2em}.mw-parser-output .citation .mw-selflink{font-weight:inherit}</style><a href=\"/wiki/Special:BookSources/978-4-04-067657-9\" title=\"Special:BookSources/978-4-04-067657-9\">978-4-04-067657-9</a></td><td>February 7, 2019 (Digital)<br/>May 7, 2019 (Physical)<sup class=\"reference\" id=\"cite_ref-7\"><a href=\"#cite_note-7\">[6]</a></sup></td><td><link href=\"mw-data:TemplateStyles:r1133582631\" rel=\"mw-deduplicated-inline-style\"/><a href=\"/wiki/Special:BookSources/978-1-64-275137-6\" title=\"Special:BookSources/978-1-64-275137-6\">978-1-64-275137-6</a></td></tr>\n",
       "<tr style=\"text-align: center;\"><th id=\"vol2\" scope=\"row\" style=\"text-align: center; font-weight: normal; background-color: transparent;\">2</th><td> September 25, 2015<sup class=\"reference\" id=\"cite_ref-jp-novel-Y1-V2_8-0\"><a href=\"#cite_note-jp-novel-Y1-V2-8\">[7]</a></sup></td><td><link href=\"mw-data:TemplateStyles:r1133582631\" rel=\"mw-deduplicated-inline-style\"/><a href=\"/wiki/Special:BookSources/978-4-04-067778-1\" title=\"Special:BookSources/978-4-04-067778-1\">978-4-04-067778-1</a></td><td>May 16, 2019 (Digital)<br/>August 13, 2019 (Physical)<sup class=\"reference\" id=\"cite_ref-9\"><a href=\"#cite_note-9\">[8]</a></sup></td><td><link href=\"mw-data:TemplateStyles:r1133582631\" rel=\"mw-deduplicated-inline-style\"/><a href=\"/wiki/Special:BookSources/978-1-64-275139-0\" title=\"Special:BookSources/978-1-64-275139-0\">978-1-64-275139-0</a></td></tr>\n",
       "<tr style=\"text-align: center;\"><th id=\"vol3\" scope=\"row\" style=\"text-align: center; font-weight: normal; background-color: transparent;\">3</th><td> January 25, 2016<sup class=\"reference\" id=\"cite_ref-jp-novel-Y1-V3_10-0\"><a href=\"#cite_note-jp-novel-Y1-V3-10\">[9]</a></sup></td><td><link href=\"mw-data:TemplateStyles:r1133582631\" rel=\"mw-deduplicated-inline-style\"/><a href=\"/wiki/Special:BookSources/978-4-04-068008-8\" title=\"Special:BookSources/978-4-04-068008-8\">978-4-04-068008-8</a></td><td>July 18, 2019 (Digital)<br/>November 19, 2019 (Physical)<sup class=\"reference\" id=\"cite_ref-11\"><a href=\"#cite_note-11\">[10]</a></sup></td><td><link href=\"mw-data:TemplateStyles:r1133582631\" rel=\"mw-deduplicated-inline-style\"/><a href=\"/wiki/Special:BookSources/978-1-64-275723-1\" title=\"Special:BookSources/978-1-64-275723-1\">978-1-64-275723-1</a></td></tr>\n",
       "<tr style=\"text-align: center;\"><th id=\"vol4\" scope=\"row\" style=\"text-align: center; font-weight: normal; background-color: transparent;\">4</th><td> May 25, 2016<sup class=\"reference\" id=\"cite_ref-jp-novel-Y1-V4_12-0\"><a href=\"#cite_note-jp-novel-Y1-V4-12\">[11]</a></sup></td><td><link href=\"mw-data:TemplateStyles:r1133582631\" rel=\"mw-deduplicated-inline-style\"/><a href=\"/wiki/Special:BookSources/978-4-04-068338-6\" title=\"Special:BookSources/978-4-04-068338-6\">978-4-04-068338-6</a></td><td>November 21, 2019 (Digital)<br/>February 25, 2020 (Physical)<sup class=\"reference\" id=\"cite_ref-13\"><a href=\"#cite_note-13\">[12]</a></sup></td><td><link href=\"mw-data:TemplateStyles:r1133582631\" rel=\"mw-deduplicated-inline-style\"/><a href=\"/wiki/Special:BookSources/978-1-64-505197-8\" title=\"Special:BookSources/978-1-64-505197-8\">978-1-64-505197-8</a></td></tr>\n",
       "<tr style=\"text-align: center;\"><th id=\"vol4.5\" scope=\"row\" style=\"text-align: center; font-weight: normal; background-color: transparent;\">4.5</th><td> September 23, 2016<sup class=\"reference\" id=\"cite_ref-jp-novel-Y1-V4.5_14-0\"><a href=\"#cite_note-jp-novel-Y1-V4.5-14\">[13]</a></sup></td><td><link href=\"mw-data:TemplateStyles:r1133582631\" rel=\"mw-deduplicated-inline-style\"/><a href=\"/wiki/Special:BookSources/978-4-04-068629-5\" title=\"Special:BookSources/978-4-04-068629-5\">978-4-04-068629-5</a></td><td>February 6, 2020 (Digital)<br/>June 16, 2020 (Physical)<sup class=\"reference\" id=\"cite_ref-15\"><a href=\"#cite_note-15\">[14]</a></sup></td><td><link href=\"mw-data:TemplateStyles:r1133582631\" rel=\"mw-deduplicated-inline-style\"/><a href=\"/wiki/Special:BookSources/978-1-64-505437-5\" title=\"Special:BookSources/978-1-64-505437-5\">978-1-64-505437-5</a></td></tr>\n",
       "<tr style=\"text-align: center;\"><th id=\"vol5\" scope=\"row\" style=\"text-align: center; font-weight: normal; background-color: transparent;\">5</th><td> January 25, 2017<sup class=\"reference\" id=\"cite_ref-jp-novel-Y1-V5_16-0\"><a href=\"#cite_note-jp-novel-Y1-V5-16\">[15]</a></sup></td><td><link href=\"mw-data:TemplateStyles:r1133582631\" rel=\"mw-deduplicated-inline-style\"/><a href=\"/wiki/Special:BookSources/978-4-04-069017-9\" title=\"Special:BookSources/978-4-04-069017-9\">978-4-04-069017-9</a></td><td>May 14, 2020 (Digital)<br/>July 21, 2020 (Physical)<sup class=\"reference\" id=\"cite_ref-17\"><a href=\"#cite_note-17\">[16]</a></sup></td><td><link href=\"mw-data:TemplateStyles:r1133582631\" rel=\"mw-deduplicated-inline-style\"/><a href=\"/wiki/Special:BookSources/978-1-64-505486-3\" title=\"Special:BookSources/978-1-64-505486-3\">978-1-64-505486-3</a></td></tr>\n",
       "<tr style=\"text-align: center;\"><th id=\"vol6\" scope=\"row\" style=\"text-align: center; font-weight: normal; background-color: transparent;\">6</th><td> May 25, 2017<sup class=\"reference\" id=\"cite_ref-jp-novel-Y1-V6_18-0\"><a href=\"#cite_note-jp-novel-Y1-V6-18\">[17]</a></sup></td><td><link href=\"mw-data:TemplateStyles:r1133582631\" rel=\"mw-deduplicated-inline-style\"/><a href=\"/wiki/Special:BookSources/978-4-04-069231-9\" title=\"Special:BookSources/978-4-04-069231-9\">978-4-04-069231-9</a></td><td>July 23, 2020 (Digital)<br/>October 13, 2020 (Physical)<sup class=\"reference\" id=\"cite_ref-19\"><a href=\"#cite_note-19\">[18]</a></sup></td><td><link href=\"mw-data:TemplateStyles:r1133582631\" rel=\"mw-deduplicated-inline-style\"/><a href=\"/wiki/Special:BookSources/978-1-64-505751-2\" title=\"Special:BookSources/978-1-64-505751-2\">978-1-64-505751-2</a></td></tr>\n",
       "<tr style=\"text-align: center;\"><th id=\"vol7\" scope=\"row\" style=\"text-align: center; font-weight: normal; background-color: transparent;\">7</th><td> October 25, 2017<sup class=\"reference\" id=\"cite_ref-jp-novel-Y1-V7_20-0\"><a href=\"#cite_note-jp-novel-Y1-V7-20\">[19]</a></sup></td><td><link href=\"mw-data:TemplateStyles:r1133582631\" rel=\"mw-deduplicated-inline-style\"/><a href=\"/wiki/Special:BookSources/978-4-04-069458-0\" title=\"Special:BookSources/978-4-04-069458-0\">978-4-04-069458-0</a></td><td>October 29, 2020 (Digital)<br/>January 19, 2021 (Physical)<sup class=\"reference\" id=\"cite_ref-21\"><a href=\"#cite_note-21\">[20]</a></sup></td><td><link href=\"mw-data:TemplateStyles:r1133582631\" rel=\"mw-deduplicated-inline-style\"/><a href=\"/wiki/Special:BookSources/978-1-64-505820-5\" title=\"Special:BookSources/978-1-64-505820-5\">978-1-64-505820-5</a></td></tr>\n",
       "<tr style=\"text-align: center;\"><th id=\"vol7.5\" scope=\"row\" style=\"text-align: center; font-weight: normal; background-color: transparent;\">7.5</th><td> January 25, 2018<sup class=\"reference\" id=\"cite_ref-jp-novel-Y1-V7.5_22-0\"><a href=\"#cite_note-jp-novel-Y1-V7.5-22\">[21]</a></sup></td><td><link href=\"mw-data:TemplateStyles:r1133582631\" rel=\"mw-deduplicated-inline-style\"/><a href=\"/wiki/Special:BookSources/978-4-04-069675-1\" title=\"Special:BookSources/978-4-04-069675-1\">978-4-04-069675-1</a></td><td>February 4, 2021 (Digital)<br/>March 23, 2021 (Physical)<sup class=\"reference\" id=\"cite_ref-23\"><a href=\"#cite_note-23\">[22]</a></sup></td><td><link href=\"mw-data:TemplateStyles:r1133582631\" rel=\"mw-deduplicated-inline-style\"/><a href=\"/wiki/Special:BookSources/978-1-64-505975-2\" title=\"Special:BookSources/978-1-64-505975-2\">978-1-64-505975-2</a></td></tr>\n",
       "<tr style=\"text-align: center;\"><th id=\"vol8\" scope=\"row\" style=\"text-align: center; font-weight: normal; background-color: transparent;\">8</th><td> May 25, 2018<sup class=\"reference\" id=\"cite_ref-jp-novel-Y1-V8_24-0\"><a href=\"#cite_note-jp-novel-Y1-V8-24\">[23]</a></sup></td><td><link href=\"mw-data:TemplateStyles:r1133582631\" rel=\"mw-deduplicated-inline-style\"/><a href=\"/wiki/Special:BookSources/978-4-04-069861-8\" title=\"Special:BookSources/978-4-04-069861-8\">978-4-04-069861-8</a></td><td>May 27, 2021 (Digital)<br/>June 22, 2021 (Physical)<sup class=\"reference\" id=\"cite_ref-25\"><a href=\"#cite_note-25\">[24]</a></sup></td><td><link href=\"mw-data:TemplateStyles:r1133582631\" rel=\"mw-deduplicated-inline-style\"/><a href=\"/wiki/Special:BookSources/978-1-64-827223-3\" title=\"Special:BookSources/978-1-64-827223-3\">978-1-64-827223-3</a></td></tr>\n",
       "<tr style=\"text-align: center;\"><th id=\"vol9\" scope=\"row\" style=\"text-align: center; font-weight: normal; background-color: transparent;\">9</th><td> September 25, 2018<sup class=\"reference\" id=\"cite_ref-jp-novel-Y1-V9_26-0\"><a href=\"#cite_note-jp-novel-Y1-V9-26\">[25]</a></sup></td><td><link href=\"mw-data:TemplateStyles:r1133582631\" rel=\"mw-deduplicated-inline-style\"/><a href=\"/wiki/Special:BookSources/978-4-04-065157-6\" title=\"Special:BookSources/978-4-04-065157-6\">978-4-04-065157-6</a></td><td>August 26, 2021 (Digital)<br/>September 28, 2021 (Physical)<sup class=\"reference\" id=\"cite_ref-27\"><a href=\"#cite_note-27\">[26]</a></sup></td><td><link href=\"mw-data:TemplateStyles:r1133582631\" rel=\"mw-deduplicated-inline-style\"/><a href=\"/wiki/Special:BookSources/978-1-64-827261-5\" title=\"Special:BookSources/978-1-64-827261-5\">978-1-64-827261-5</a></td></tr>\n",
       "<tr style=\"text-align: center;\"><th id=\"vol10\" scope=\"row\" style=\"text-align: center; font-weight: normal; background-color: transparent;\">10</th><td> January 25, 2019<sup class=\"reference\" id=\"cite_ref-jp-novel-Y1-V10_28-0\"><a href=\"#cite_note-jp-novel-Y1-V10-28\">[27]</a></sup></td><td><link href=\"mw-data:TemplateStyles:r1133582631\" rel=\"mw-deduplicated-inline-style\"/><a href=\"/wiki/Special:BookSources/978-4-04-065506-2\" title=\"Special:BookSources/978-4-04-065506-2\">978-4-04-065506-2</a></td><td>February 17, 2022 (Digital)<br/>March 15, 2022 (Physical)<sup class=\"reference\" id=\"cite_ref-29\"><a href=\"#cite_note-29\">[28]</a></sup></td><td><link href=\"mw-data:TemplateStyles:r1133582631\" rel=\"mw-deduplicated-inline-style\"/><a href=\"/wiki/Special:BookSources/978-1-64-827321-6\" title=\"Special:BookSources/978-1-64-827321-6\">978-1-64-827321-6</a></td></tr>\n",
       "<tr style=\"text-align: center;\"><th id=\"vol11\" scope=\"row\" style=\"text-align: center; font-weight: normal; background-color: transparent;\">11</th><td> May 25, 2019<sup class=\"reference\" id=\"cite_ref-jp-novel-Y1-V11_30-0\"><a href=\"#cite_note-jp-novel-Y1-V11-30\">[29]</a></sup></td><td><link href=\"mw-data:TemplateStyles:r1133582631\" rel=\"mw-deduplicated-inline-style\"/><a href=\"/wiki/Special:BookSources/978-4-04-065739-4\" title=\"Special:BookSources/978-4-04-065739-4\">978-4-04-065739-4</a></td><td>April 7, 2022 (Digital)<br/>May 10, 2022 (Physical)<sup class=\"reference\" id=\"cite_ref-31\"><a href=\"#cite_note-31\">[30]</a></sup></td><td><link href=\"mw-data:TemplateStyles:r1133582631\" rel=\"mw-deduplicated-inline-style\"/><a href=\"/wiki/Special:BookSources/978-1-64-827361-2\" title=\"Special:BookSources/978-1-64-827361-2\">978-1-64-827361-2</a></td></tr>\n",
       "<tr style=\"text-align: center;\"><th id=\"vol11.5\" scope=\"row\" style=\"text-align: center; font-weight: normal; background-color: transparent;\">11.5</th><td> September 25, 2019<sup class=\"reference\" id=\"cite_ref-jp-novel-Y1-V11.5_32-0\"><a href=\"#cite_note-jp-novel-Y1-V11.5-32\">[31]</a></sup></td><td><link href=\"mw-data:TemplateStyles:r1133582631\" rel=\"mw-deduplicated-inline-style\"/><a href=\"/wiki/Special:BookSources/978-4-04-064007-5\" title=\"Special:BookSources/978-4-04-064007-5\">978-4-04-064007-5</a></td><td>May 12, 2022 (Digital)<br/>June 28, 2022 (Physical)<sup class=\"reference\" id=\"cite_ref-33\"><a href=\"#cite_note-33\">[32]</a></sup></td><td><link href=\"mw-data:TemplateStyles:r1133582631\" rel=\"mw-deduplicated-inline-style\"/><a href=\"/wiki/Special:BookSources/978-1-63858-102-4\" title=\"Special:BookSources/978-1-63858-102-4\">978-1-63858-102-4</a></td></tr>\n",
       "</tbody></table>"
      ]
     },
     "execution_count": 58,
     "metadata": {},
     "output_type": "execute_result"
    }
   ],
   "source": [
    "soup.find('table', class_ = 'wikitable')"
   ]
  },
  {
   "cell_type": "code",
   "execution_count": 59,
   "metadata": {},
   "outputs": [],
   "source": [
    "table = soup.find_all('table')"
   ]
  },
  {
   "cell_type": "code",
   "execution_count": 60,
   "metadata": {},
   "outputs": [
    {
     "name": "stdout",
     "output_type": "stream",
     "text": [
      "['No.', 'Original release date', 'Original ISBN', 'English release date', 'English ISBN']\n",
      "['No.', 'Original release date', 'Original ISBN', 'English release date', 'English ISBN']\n",
      "['No.', 'Original release date', 'Original ISBN', 'English release date', 'English ISBN']\n",
      "['No.', 'Original release date', 'Original ISBN', 'English release date', 'English ISBN']\n",
      "['No.', 'Japanese release date', 'Japanese ISBN']\n"
     ]
    }
   ],
   "source": [
    "title1 = table[1].find_all('th')\n",
    "table_title1 = [title.text.strip() for title in title1]\n",
    "table_title1 = table_title1[:5]\n",
    "print(table_title1)\n",
    "\n",
    "title2 = table[2].find_all('th')\n",
    "table_title2 = [title.text.strip() for title in title2]\n",
    "table_title2 = table_title2[:5]\n",
    "print(table_title2)\n",
    "\n",
    "title3 = table[3].find_all('th')\n",
    "table_title3 = [title.text.strip() for title in title3]\n",
    "table_title3 = table_title3[:5]\n",
    "print(table_title3)\n",
    "\n",
    "title4 = table[4].find_all('th')\n",
    "table_title4 = [title.text.strip() for title in title4]\n",
    "table_title4 = table_title4[:5]\n",
    "print(table_title4)\n",
    "\n",
    "title5 = table[5].find_all('th')\n",
    "table_title5 = [title.text.strip() for title in title5]\n",
    "table_title5 = table_title5[:3]\n",
    "print(table_title5)"
   ]
  },
  {
   "cell_type": "code",
   "execution_count": 61,
   "metadata": {},
   "outputs": [],
   "source": [
    "import pandas as pd"
   ]
  },
  {
   "cell_type": "code",
   "execution_count": 62,
   "metadata": {},
   "outputs": [
    {
     "data": {
      "text/html": [
       "<div>\n",
       "<style scoped>\n",
       "    .dataframe tbody tr th:only-of-type {\n",
       "        vertical-align: middle;\n",
       "    }\n",
       "\n",
       "    .dataframe tbody tr th {\n",
       "        vertical-align: top;\n",
       "    }\n",
       "\n",
       "    .dataframe thead th {\n",
       "        text-align: right;\n",
       "    }\n",
       "</style>\n",
       "<table border=\"1\" class=\"dataframe\">\n",
       "  <thead>\n",
       "    <tr style=\"text-align: right;\">\n",
       "      <th></th>\n",
       "      <th>No.</th>\n",
       "      <th>Original release date</th>\n",
       "      <th>Original ISBN</th>\n",
       "      <th>English release date</th>\n",
       "      <th>English ISBN</th>\n",
       "    </tr>\n",
       "  </thead>\n",
       "  <tbody>\n",
       "  </tbody>\n",
       "</table>\n",
       "</div>"
      ],
      "text/plain": [
       "Empty DataFrame\n",
       "Columns: [No., Original release date, Original ISBN, English release date, English ISBN]\n",
       "Index: []"
      ]
     },
     "execution_count": 62,
     "metadata": {},
     "output_type": "execute_result"
    }
   ],
   "source": [
    "df1 = pd.DataFrame(columns = table_title1)\n",
    "df1"
   ]
  },
  {
   "cell_type": "code",
   "execution_count": 63,
   "metadata": {},
   "outputs": [
    {
     "data": {
      "text/html": [
       "<div>\n",
       "<style scoped>\n",
       "    .dataframe tbody tr th:only-of-type {\n",
       "        vertical-align: middle;\n",
       "    }\n",
       "\n",
       "    .dataframe tbody tr th {\n",
       "        vertical-align: top;\n",
       "    }\n",
       "\n",
       "    .dataframe thead th {\n",
       "        text-align: right;\n",
       "    }\n",
       "</style>\n",
       "<table border=\"1\" class=\"dataframe\">\n",
       "  <thead>\n",
       "    <tr style=\"text-align: right;\">\n",
       "      <th></th>\n",
       "      <th>No.</th>\n",
       "      <th>Original release date</th>\n",
       "      <th>Original ISBN</th>\n",
       "      <th>English release date</th>\n",
       "      <th>English ISBN</th>\n",
       "    </tr>\n",
       "  </thead>\n",
       "  <tbody>\n",
       "  </tbody>\n",
       "</table>\n",
       "</div>"
      ],
      "text/plain": [
       "Empty DataFrame\n",
       "Columns: [No., Original release date, Original ISBN, English release date, English ISBN]\n",
       "Index: []"
      ]
     },
     "execution_count": 63,
     "metadata": {},
     "output_type": "execute_result"
    }
   ],
   "source": [
    "df2 = pd.DataFrame(columns = table_title2)\n",
    "df2"
   ]
  },
  {
   "cell_type": "code",
   "execution_count": 64,
   "metadata": {},
   "outputs": [
    {
     "data": {
      "text/html": [
       "<div>\n",
       "<style scoped>\n",
       "    .dataframe tbody tr th:only-of-type {\n",
       "        vertical-align: middle;\n",
       "    }\n",
       "\n",
       "    .dataframe tbody tr th {\n",
       "        vertical-align: top;\n",
       "    }\n",
       "\n",
       "    .dataframe thead th {\n",
       "        text-align: right;\n",
       "    }\n",
       "</style>\n",
       "<table border=\"1\" class=\"dataframe\">\n",
       "  <thead>\n",
       "    <tr style=\"text-align: right;\">\n",
       "      <th></th>\n",
       "      <th>No.</th>\n",
       "      <th>Original release date</th>\n",
       "      <th>Original ISBN</th>\n",
       "      <th>English release date</th>\n",
       "      <th>English ISBN</th>\n",
       "    </tr>\n",
       "  </thead>\n",
       "  <tbody>\n",
       "  </tbody>\n",
       "</table>\n",
       "</div>"
      ],
      "text/plain": [
       "Empty DataFrame\n",
       "Columns: [No., Original release date, Original ISBN, English release date, English ISBN]\n",
       "Index: []"
      ]
     },
     "execution_count": 64,
     "metadata": {},
     "output_type": "execute_result"
    }
   ],
   "source": [
    "df3 = pd.DataFrame(columns = table_title3)\n",
    "df3"
   ]
  },
  {
   "cell_type": "code",
   "execution_count": 65,
   "metadata": {},
   "outputs": [
    {
     "data": {
      "text/html": [
       "<div>\n",
       "<style scoped>\n",
       "    .dataframe tbody tr th:only-of-type {\n",
       "        vertical-align: middle;\n",
       "    }\n",
       "\n",
       "    .dataframe tbody tr th {\n",
       "        vertical-align: top;\n",
       "    }\n",
       "\n",
       "    .dataframe thead th {\n",
       "        text-align: right;\n",
       "    }\n",
       "</style>\n",
       "<table border=\"1\" class=\"dataframe\">\n",
       "  <thead>\n",
       "    <tr style=\"text-align: right;\">\n",
       "      <th></th>\n",
       "      <th>No.</th>\n",
       "      <th>Original release date</th>\n",
       "      <th>Original ISBN</th>\n",
       "      <th>English release date</th>\n",
       "      <th>English ISBN</th>\n",
       "    </tr>\n",
       "  </thead>\n",
       "  <tbody>\n",
       "  </tbody>\n",
       "</table>\n",
       "</div>"
      ],
      "text/plain": [
       "Empty DataFrame\n",
       "Columns: [No., Original release date, Original ISBN, English release date, English ISBN]\n",
       "Index: []"
      ]
     },
     "execution_count": 65,
     "metadata": {},
     "output_type": "execute_result"
    }
   ],
   "source": [
    "df4 = pd.DataFrame(columns = table_title4)\n",
    "df4"
   ]
  },
  {
   "cell_type": "code",
   "execution_count": 66,
   "metadata": {},
   "outputs": [
    {
     "data": {
      "text/html": [
       "<div>\n",
       "<style scoped>\n",
       "    .dataframe tbody tr th:only-of-type {\n",
       "        vertical-align: middle;\n",
       "    }\n",
       "\n",
       "    .dataframe tbody tr th {\n",
       "        vertical-align: top;\n",
       "    }\n",
       "\n",
       "    .dataframe thead th {\n",
       "        text-align: right;\n",
       "    }\n",
       "</style>\n",
       "<table border=\"1\" class=\"dataframe\">\n",
       "  <thead>\n",
       "    <tr style=\"text-align: right;\">\n",
       "      <th></th>\n",
       "      <th>No.</th>\n",
       "      <th>Japanese release date</th>\n",
       "      <th>Japanese ISBN</th>\n",
       "    </tr>\n",
       "  </thead>\n",
       "  <tbody>\n",
       "  </tbody>\n",
       "</table>\n",
       "</div>"
      ],
      "text/plain": [
       "Empty DataFrame\n",
       "Columns: [No., Japanese release date, Japanese ISBN]\n",
       "Index: []"
      ]
     },
     "execution_count": 66,
     "metadata": {},
     "output_type": "execute_result"
    }
   ],
   "source": [
    "df5 = pd.DataFrame(columns = table_title5)\n",
    "df5"
   ]
  },
  {
   "cell_type": "code",
   "execution_count": 67,
   "metadata": {},
   "outputs": [],
   "source": [
    "col_data1 = table[1].find_all('tr')\n",
    "col_data2 = table[2].find_all('tr')\n",
    "col_data3 = table[3].find_all('tr')\n",
    "col_data4 = table[4].find_all('tr')\n",
    "col_data5 = table[5].find_all('tr')"
   ]
  },
  {
   "cell_type": "code",
   "execution_count": 68,
   "metadata": {},
   "outputs": [],
   "source": [
    "title1 = table[1].find_all('th')\n",
    "table_title1 = [title.text.strip() for title in title1]\n",
    "\n",
    "for row, i in zip(col_data1[1:], table_title1[5:]):\n",
    "    row_data = row.find_all('td')\n",
    "    ind_data = [data.text.strip() for data in row_data]\n",
    "        \n",
    "    new_row = [i] + ind_data\n",
    "\n",
    "    df1.loc[len(df1)] = new_row"
   ]
  },
  {
   "cell_type": "code",
   "execution_count": 69,
   "metadata": {},
   "outputs": [],
   "source": [
    "title2 = table[2].find_all('th')\n",
    "table_title2 = [title.text.strip() for title in title2]\n",
    "\n",
    "for row, ind in zip(col_data2[1:], table_title2[5:]):\n",
    "    row_data = row.find_all('td')\n",
    "    ind_data = [data.text.strip() for data in row_data]\n",
    "\n",
    "    new_row = [ind] + ind_data\n",
    "    df2.loc[len(df2)] = new_row\n"
   ]
  },
  {
   "cell_type": "code",
   "execution_count": 70,
   "metadata": {},
   "outputs": [
    {
     "data": {
      "text/html": [
       "<div>\n",
       "<style scoped>\n",
       "    .dataframe tbody tr th:only-of-type {\n",
       "        vertical-align: middle;\n",
       "    }\n",
       "\n",
       "    .dataframe tbody tr th {\n",
       "        vertical-align: top;\n",
       "    }\n",
       "\n",
       "    .dataframe thead th {\n",
       "        text-align: right;\n",
       "    }\n",
       "</style>\n",
       "<table border=\"1\" class=\"dataframe\">\n",
       "  <thead>\n",
       "    <tr style=\"text-align: right;\">\n",
       "      <th></th>\n",
       "      <th>No.</th>\n",
       "      <th>Original release date</th>\n",
       "      <th>Original ISBN</th>\n",
       "      <th>English release date</th>\n",
       "      <th>English ISBN</th>\n",
       "    </tr>\n",
       "  </thead>\n",
       "  <tbody>\n",
       "    <tr>\n",
       "      <th>0</th>\n",
       "      <td>1</td>\n",
       "      <td>January 24, 2020[35]</td>\n",
       "      <td>978-4-04-064329-8</td>\n",
       "      <td>June 9, 2022 (Digital)July 19, 2022 (Physical)...</td>\n",
       "      <td>978-1-63858-182-6</td>\n",
       "    </tr>\n",
       "    <tr>\n",
       "      <th>1</th>\n",
       "      <td>2</td>\n",
       "      <td>June 25, 2020[37]</td>\n",
       "      <td>978-4-04-064664-0</td>\n",
       "      <td>July 21, 2022 (Digital)August 30, 2022 (Physic...</td>\n",
       "      <td>978-1-63858-337-0</td>\n",
       "    </tr>\n",
       "    <tr>\n",
       "      <th>2</th>\n",
       "      <td>3</td>\n",
       "      <td>October 24, 2020[39]</td>\n",
       "      <td>978-4-04-065942-8</td>\n",
       "      <td>September 8, 2022 (Digital)November 22, 2022 (...</td>\n",
       "      <td>978-1-63858-642-5</td>\n",
       "    </tr>\n",
       "    <tr>\n",
       "      <th>3</th>\n",
       "      <td>4</td>\n",
       "      <td>February 25, 2021[41]</td>\n",
       "      <td>978-4-04-680166-1</td>\n",
       "      <td>December 29, 2022 (Digital)February 7, 2023 (P...</td>\n",
       "      <td>978-1-63858-817-7</td>\n",
       "    </tr>\n",
       "    <tr>\n",
       "      <th>4</th>\n",
       "      <td>4.5</td>\n",
       "      <td>June 25, 2021[43]</td>\n",
       "      <td>978-4-04-680516-4</td>\n",
       "      <td>March 30, 2023 (Digital)May 9, 2023 (Physical)...</td>\n",
       "      <td>978-1-68579-639-6</td>\n",
       "    </tr>\n",
       "    <tr>\n",
       "      <th>5</th>\n",
       "      <td>5</td>\n",
       "      <td>October 25, 2021[45]</td>\n",
       "      <td>978-4-04-680846-2</td>\n",
       "      <td>May 18, 2023 (Digital)July 11, 2023 (Physical)...</td>\n",
       "      <td>978-1-68579-653-2</td>\n",
       "    </tr>\n",
       "    <tr>\n",
       "      <th>6</th>\n",
       "      <td>6</td>\n",
       "      <td>February 25, 2022[47]</td>\n",
       "      <td>978-4-04-681185-1</td>\n",
       "      <td>June 15, 2023 (Digital) October 3, 2023 (Physi...</td>\n",
       "      <td>978-1-63858-816-0</td>\n",
       "    </tr>\n",
       "    <tr>\n",
       "      <th>7</th>\n",
       "      <td>7</td>\n",
       "      <td>June 24, 2022[49]</td>\n",
       "      <td>978-4-04-681477-7</td>\n",
       "      <td>September 14, 2023 (Digital) December 5, 2023 ...</td>\n",
       "      <td>978-1-68579-947-2</td>\n",
       "    </tr>\n",
       "    <tr>\n",
       "      <th>8</th>\n",
       "      <td>8</td>\n",
       "      <td>October 25, 2022[51]</td>\n",
       "      <td>978-4-04-681833-1</td>\n",
       "      <td>April 16, 2024 (Physical)[52]</td>\n",
       "      <td>979-8-88843-430-7</td>\n",
       "    </tr>\n",
       "    <tr>\n",
       "      <th>9</th>\n",
       "      <td>9</td>\n",
       "      <td>February 25, 2023[53]</td>\n",
       "      <td>978-4-04-682213-0</td>\n",
       "      <td>—</td>\n",
       "      <td>—</td>\n",
       "    </tr>\n",
       "    <tr>\n",
       "      <th>10</th>\n",
       "      <td>9.5</td>\n",
       "      <td>June 23, 2023[54]</td>\n",
       "      <td>978-4-04-682566-7</td>\n",
       "      <td>—</td>\n",
       "      <td>—</td>\n",
       "    </tr>\n",
       "  </tbody>\n",
       "</table>\n",
       "</div>"
      ],
      "text/plain": [
       "    No.  Original release date      Original ISBN  \\\n",
       "0     1   January 24, 2020[35]  978-4-04-064329-8   \n",
       "1     2      June 25, 2020[37]  978-4-04-064664-0   \n",
       "2     3   October 24, 2020[39]  978-4-04-065942-8   \n",
       "3     4  February 25, 2021[41]  978-4-04-680166-1   \n",
       "4   4.5      June 25, 2021[43]  978-4-04-680516-4   \n",
       "5     5   October 25, 2021[45]  978-4-04-680846-2   \n",
       "6     6  February 25, 2022[47]  978-4-04-681185-1   \n",
       "7     7      June 24, 2022[49]  978-4-04-681477-7   \n",
       "8     8   October 25, 2022[51]  978-4-04-681833-1   \n",
       "9     9  February 25, 2023[53]  978-4-04-682213-0   \n",
       "10  9.5      June 23, 2023[54]  978-4-04-682566-7   \n",
       "\n",
       "                                 English release date       English ISBN  \n",
       "0   June 9, 2022 (Digital)July 19, 2022 (Physical)...  978-1-63858-182-6  \n",
       "1   July 21, 2022 (Digital)August 30, 2022 (Physic...  978-1-63858-337-0  \n",
       "2   September 8, 2022 (Digital)November 22, 2022 (...  978-1-63858-642-5  \n",
       "3   December 29, 2022 (Digital)February 7, 2023 (P...  978-1-63858-817-7  \n",
       "4   March 30, 2023 (Digital)May 9, 2023 (Physical)...  978-1-68579-639-6  \n",
       "5   May 18, 2023 (Digital)July 11, 2023 (Physical)...  978-1-68579-653-2  \n",
       "6   June 15, 2023 (Digital) October 3, 2023 (Physi...  978-1-63858-816-0  \n",
       "7   September 14, 2023 (Digital) December 5, 2023 ...  978-1-68579-947-2  \n",
       "8                       April 16, 2024 (Physical)[52]  979-8-88843-430-7  \n",
       "9                                                   —                  —  \n",
       "10                                                  —                  —  "
      ]
     },
     "execution_count": 70,
     "metadata": {},
     "output_type": "execute_result"
    }
   ],
   "source": [
    "df2"
   ]
  },
  {
   "cell_type": "code",
   "execution_count": 71,
   "metadata": {},
   "outputs": [],
   "source": [
    "title3 = table[3].find_all('th')\n",
    "table_title3 = [title.text.strip() for title in title3]\n",
    "\n",
    "for row, ind in zip(col_data3[1:], table_title3[5:]):\n",
    "    row_data = row.find_all('td')\n",
    "    ind_data = [data.text.strip() for data in row_data]\n",
    "\n",
    "    new_row = [ind] + ind_data\n",
    "\n",
    "    df3.loc[len(df3)] = new_row"
   ]
  },
  {
   "cell_type": "code",
   "execution_count": 72,
   "metadata": {},
   "outputs": [
    {
     "data": {
      "text/html": [
       "<div>\n",
       "<style scoped>\n",
       "    .dataframe tbody tr th:only-of-type {\n",
       "        vertical-align: middle;\n",
       "    }\n",
       "\n",
       "    .dataframe tbody tr th {\n",
       "        vertical-align: top;\n",
       "    }\n",
       "\n",
       "    .dataframe thead th {\n",
       "        text-align: right;\n",
       "    }\n",
       "</style>\n",
       "<table border=\"1\" class=\"dataframe\">\n",
       "  <thead>\n",
       "    <tr style=\"text-align: right;\">\n",
       "      <th></th>\n",
       "      <th>No.</th>\n",
       "      <th>Original release date</th>\n",
       "      <th>Original ISBN</th>\n",
       "      <th>English release date</th>\n",
       "      <th>English ISBN</th>\n",
       "    </tr>\n",
       "  </thead>\n",
       "  <tbody>\n",
       "    <tr>\n",
       "      <th>0</th>\n",
       "      <td>1</td>\n",
       "      <td>September 23, 2016[56]</td>\n",
       "      <td>978-4-04-068550-2</td>\n",
       "      <td>February 22, 2022[57]</td>\n",
       "      <td>978-1-63858-130-7</td>\n",
       "    </tr>\n",
       "    <tr>\n",
       "      <th>1</th>\n",
       "      <td>2</td>\n",
       "      <td>January 23, 2017[58]</td>\n",
       "      <td>978-4-04-069039-1</td>\n",
       "      <td>May 10, 2022[59]</td>\n",
       "      <td>978-1-63858-242-7</td>\n",
       "    </tr>\n",
       "    <tr>\n",
       "      <th>2</th>\n",
       "      <td>3</td>\n",
       "      <td>March 23, 2017[60]</td>\n",
       "      <td>978-4-04-069120-6</td>\n",
       "      <td>August 16, 2022[61]</td>\n",
       "      <td>978-1-63858-599-2</td>\n",
       "    </tr>\n",
       "    <tr>\n",
       "      <th>3</th>\n",
       "      <td>4</td>\n",
       "      <td>July 22, 2017[62]</td>\n",
       "      <td>978-4-04-069303-3</td>\n",
       "      <td>November 1, 2022[63]</td>\n",
       "      <td>978-1-63858-772-9</td>\n",
       "    </tr>\n",
       "    <tr>\n",
       "      <th>4</th>\n",
       "      <td>5</td>\n",
       "      <td>November 22, 2017[64]</td>\n",
       "      <td>978-4-04-069532-7</td>\n",
       "      <td>February 21, 2023[65]</td>\n",
       "      <td>978-1-63858-964-8</td>\n",
       "    </tr>\n",
       "    <tr>\n",
       "      <th>5</th>\n",
       "      <td>6</td>\n",
       "      <td>April 23, 2018[66]</td>\n",
       "      <td>978-4-04-069747-5</td>\n",
       "      <td>May 23, 2023[67]</td>\n",
       "      <td>978-1-68579-511-5</td>\n",
       "    </tr>\n",
       "    <tr>\n",
       "      <th>6</th>\n",
       "      <td>7</td>\n",
       "      <td>November 21, 2018[68]</td>\n",
       "      <td>978-4-04-065321-1</td>\n",
       "      <td>August 22, 2023[69]</td>\n",
       "      <td>978-1-68579-548-1</td>\n",
       "    </tr>\n",
       "    <tr>\n",
       "      <th>7</th>\n",
       "      <td>8</td>\n",
       "      <td>June 22, 2019[70]</td>\n",
       "      <td>978-4-04-065704-2</td>\n",
       "      <td>November 7, 2023[71]</td>\n",
       "      <td>979-8-88843-038-5</td>\n",
       "    </tr>\n",
       "    <tr>\n",
       "      <th>8</th>\n",
       "      <td>9</td>\n",
       "      <td>January 23, 2020[72]</td>\n",
       "      <td>978-4-04-064297-0</td>\n",
       "      <td>—</td>\n",
       "      <td>—</td>\n",
       "    </tr>\n",
       "    <tr>\n",
       "      <th>9</th>\n",
       "      <td>10</td>\n",
       "      <td>August 20, 2020[73]</td>\n",
       "      <td>978-4-04-064789-0</td>\n",
       "      <td>—</td>\n",
       "      <td>—</td>\n",
       "    </tr>\n",
       "    <tr>\n",
       "      <th>10</th>\n",
       "      <td>11</td>\n",
       "      <td>June 23, 2021[74]</td>\n",
       "      <td>978-4-04-680382-5</td>\n",
       "      <td>—</td>\n",
       "      <td>—</td>\n",
       "    </tr>\n",
       "    <tr>\n",
       "      <th>11</th>\n",
       "      <td>12</td>\n",
       "      <td>February 22, 2022[75]</td>\n",
       "      <td>978-4-04-681125-7</td>\n",
       "      <td>—</td>\n",
       "      <td>—</td>\n",
       "    </tr>\n",
       "  </tbody>\n",
       "</table>\n",
       "</div>"
      ],
      "text/plain": [
       "   No.   Original release date      Original ISBN   English release date  \\\n",
       "0    1  September 23, 2016[56]  978-4-04-068550-2  February 22, 2022[57]   \n",
       "1    2    January 23, 2017[58]  978-4-04-069039-1       May 10, 2022[59]   \n",
       "2    3      March 23, 2017[60]  978-4-04-069120-6    August 16, 2022[61]   \n",
       "3    4       July 22, 2017[62]  978-4-04-069303-3   November 1, 2022[63]   \n",
       "4    5   November 22, 2017[64]  978-4-04-069532-7  February 21, 2023[65]   \n",
       "5    6      April 23, 2018[66]  978-4-04-069747-5       May 23, 2023[67]   \n",
       "6    7   November 21, 2018[68]  978-4-04-065321-1    August 22, 2023[69]   \n",
       "7    8       June 22, 2019[70]  978-4-04-065704-2   November 7, 2023[71]   \n",
       "8    9    January 23, 2020[72]  978-4-04-064297-0                      —   \n",
       "9   10     August 20, 2020[73]  978-4-04-064789-0                      —   \n",
       "10  11       June 23, 2021[74]  978-4-04-680382-5                      —   \n",
       "11  12   February 22, 2022[75]  978-4-04-681125-7                      —   \n",
       "\n",
       "         English ISBN  \n",
       "0   978-1-63858-130-7  \n",
       "1   978-1-63858-242-7  \n",
       "2   978-1-63858-599-2  \n",
       "3   978-1-63858-772-9  \n",
       "4   978-1-63858-964-8  \n",
       "5   978-1-68579-511-5  \n",
       "6   978-1-68579-548-1  \n",
       "7   979-8-88843-038-5  \n",
       "8                   —  \n",
       "9                   —  \n",
       "10                  —  \n",
       "11                  —  "
      ]
     },
     "execution_count": 72,
     "metadata": {},
     "output_type": "execute_result"
    }
   ],
   "source": [
    "df3"
   ]
  },
  {
   "cell_type": "code",
   "execution_count": 73,
   "metadata": {},
   "outputs": [],
   "source": [
    "title4 = table[4].find_all('th')\n",
    "table_title4 = [title.text.strip() for title in title4]\n",
    "table_title4\n",
    "\n",
    "for row, ind in zip(col_data4[1:], table_title4[5:]):\n",
    "    row_data = row.find_all('td')\n",
    "    ind_data = [data.text.strip() for data in row_data]\n",
    "\n",
    "    new_row = [ind] + ind_data\n",
    "    df4.loc[len(df4)] = new_row"
   ]
  },
  {
   "cell_type": "code",
   "execution_count": 74,
   "metadata": {},
   "outputs": [
    {
     "data": {
      "text/html": [
       "<div>\n",
       "<style scoped>\n",
       "    .dataframe tbody tr th:only-of-type {\n",
       "        vertical-align: middle;\n",
       "    }\n",
       "\n",
       "    .dataframe tbody tr th {\n",
       "        vertical-align: top;\n",
       "    }\n",
       "\n",
       "    .dataframe thead th {\n",
       "        text-align: right;\n",
       "    }\n",
       "</style>\n",
       "<table border=\"1\" class=\"dataframe\">\n",
       "  <thead>\n",
       "    <tr style=\"text-align: right;\">\n",
       "      <th></th>\n",
       "      <th>No.</th>\n",
       "      <th>Original release date</th>\n",
       "      <th>Original ISBN</th>\n",
       "      <th>English release date</th>\n",
       "      <th>English ISBN</th>\n",
       "    </tr>\n",
       "  </thead>\n",
       "  <tbody>\n",
       "    <tr>\n",
       "      <th>0</th>\n",
       "      <td>1</td>\n",
       "      <td>November 22, 2017[78]</td>\n",
       "      <td>978-4-04-069642-3</td>\n",
       "      <td>July 4, 2023[79]</td>\n",
       "      <td>978-1-63858-850-4</td>\n",
       "    </tr>\n",
       "    <tr>\n",
       "      <th>1</th>\n",
       "      <td>2</td>\n",
       "      <td>June 23, 2018[80]</td>\n",
       "      <td>978-4-04-069825-0</td>\n",
       "      <td>October 10, 2023[81]</td>\n",
       "      <td>978-1-68579-934-2</td>\n",
       "    </tr>\n",
       "  </tbody>\n",
       "</table>\n",
       "</div>"
      ],
      "text/plain": [
       "  No.  Original release date      Original ISBN  English release date  \\\n",
       "0   1  November 22, 2017[78]  978-4-04-069642-3      July 4, 2023[79]   \n",
       "1   2      June 23, 2018[80]  978-4-04-069825-0  October 10, 2023[81]   \n",
       "\n",
       "        English ISBN  \n",
       "0  978-1-63858-850-4  \n",
       "1  978-1-68579-934-2  "
      ]
     },
     "execution_count": 74,
     "metadata": {},
     "output_type": "execute_result"
    }
   ],
   "source": [
    "df4"
   ]
  },
  {
   "cell_type": "code",
   "execution_count": 75,
   "metadata": {},
   "outputs": [],
   "source": [
    "title5 = table[5].find_all('th')\n",
    "table_title5 = [title.text.strip() for title in title5]\n",
    "\n",
    "for row, ind in zip(col_data5[1:], table_title5[3:]):\n",
    "    row_data = row.find_all('td')\n",
    "    ind_data = [data.text.strip() for data in row_data]\n",
    "\n",
    "    new_row = [ind] + ind_data\n",
    "    df5.loc[len(df5)] = new_row"
   ]
  },
  {
   "cell_type": "code",
   "execution_count": 76,
   "metadata": {},
   "outputs": [
    {
     "data": {
      "text/html": [
       "<div>\n",
       "<style scoped>\n",
       "    .dataframe tbody tr th:only-of-type {\n",
       "        vertical-align: middle;\n",
       "    }\n",
       "\n",
       "    .dataframe tbody tr th {\n",
       "        vertical-align: top;\n",
       "    }\n",
       "\n",
       "    .dataframe thead th {\n",
       "        text-align: right;\n",
       "    }\n",
       "</style>\n",
       "<table border=\"1\" class=\"dataframe\">\n",
       "  <thead>\n",
       "    <tr style=\"text-align: right;\">\n",
       "      <th></th>\n",
       "      <th>No.</th>\n",
       "      <th>Japanese release date</th>\n",
       "      <th>Japanese ISBN</th>\n",
       "    </tr>\n",
       "  </thead>\n",
       "  <tbody>\n",
       "    <tr>\n",
       "      <th>0</th>\n",
       "      <td>1</td>\n",
       "      <td>June 22, 2022[83]</td>\n",
       "      <td>978-4-04-681438-8</td>\n",
       "    </tr>\n",
       "    <tr>\n",
       "      <th>1</th>\n",
       "      <td>2</td>\n",
       "      <td>April 21, 2023[84]</td>\n",
       "      <td>978-4-04-682455-4</td>\n",
       "    </tr>\n",
       "  </tbody>\n",
       "</table>\n",
       "</div>"
      ],
      "text/plain": [
       "  No. Japanese release date      Japanese ISBN\n",
       "0   1     June 22, 2022[83]  978-4-04-681438-8\n",
       "1   2    April 21, 2023[84]  978-4-04-682455-4"
      ]
     },
     "execution_count": 76,
     "metadata": {},
     "output_type": "execute_result"
    }
   ],
   "source": [
    "df5"
   ]
  },
  {
   "cell_type": "code",
   "execution_count": 77,
   "metadata": {},
   "outputs": [],
   "source": [
    "df1.to_csv(r'C:/Users/Userpc\\Desktop/Projects\\WebScraping/table1.csv', index = False)"
   ]
  },
  {
   "cell_type": "code",
   "execution_count": 78,
   "metadata": {},
   "outputs": [],
   "source": [
    "df2.to_csv(r'C:/Users/Userpc\\Desktop/Projects\\WebScraping/table2.csv', index = False)"
   ]
  },
  {
   "cell_type": "code",
   "execution_count": 79,
   "metadata": {},
   "outputs": [],
   "source": [
    "df3.to_csv(r'C:/Users/Userpc\\Desktop/Projects\\WebScraping/table3.csv', index = False)"
   ]
  },
  {
   "cell_type": "code",
   "execution_count": 80,
   "metadata": {},
   "outputs": [],
   "source": [
    "df4.to_csv(r'C:/Users/Userpc\\Desktop/Projects\\WebScraping/table4.csv', index = False)"
   ]
  },
  {
   "cell_type": "code",
   "execution_count": 81,
   "metadata": {},
   "outputs": [],
   "source": [
    "df5.to_csv(r'C:/Users/Userpc\\Desktop/Projects\\WebScraping/table5.csv', index = False)"
   ]
  }
 ],
 "metadata": {
  "kernelspec": {
   "display_name": "Python 3",
   "language": "python",
   "name": "python3"
  },
  "language_info": {
   "codemirror_mode": {
    "name": "ipython",
    "version": 3
   },
   "file_extension": ".py",
   "mimetype": "text/x-python",
   "name": "python",
   "nbconvert_exporter": "python",
   "pygments_lexer": "ipython3",
   "version": "3.11.4"
  },
  "orig_nbformat": 4
 },
 "nbformat": 4,
 "nbformat_minor": 2
}
